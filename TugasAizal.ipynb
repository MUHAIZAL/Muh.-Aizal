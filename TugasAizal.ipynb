{
 "cells": [
  {
   "cell_type": "code",
   "execution_count": 1,
   "id": "231829b8-2d3d-4a99-b4f7-fbdbdfbb4822",
   "metadata": {},
   "outputs": [],
   "source": [
    "import numpy as np\n",
    "import cv2\n",
    "\n",
    "# Ukuran bendera\n",
    "height = 200\n",
    "width = 350\n",
    "\n",
    "# Warna dalam format BGR\n",
    "red = (0, 0, 255)    # Merah\n",
    "white = (255, 255, 255)  # Putih\n",
    "blue = (255, 0, 0)    # Biru\n",
    "\n",
    "# Membuat latar belakang putih\n",
    "flag = np.zeros((height, width, 3), dtype=np.uint8)\n",
    "\n",
    "# Tinggi setiap garis\n",
    "stripe_height = height // 3\n",
    "\n",
    "# Menggambar tiga garis horizontal\n",
    "flag[:stripe_height, :] = red    # Merah atas\n",
    "flag[stripe_height:stripe_height*2, :] = white  # Putih tengah\n",
    "flag[stripe_height*2:, :] = blue    # Biru bawah\n",
    "\n",
    "# Menampilkan bendera Belanda\n",
    "cv2.imshow(\"Bendera Belanda\", flag)\n",
    "cv2.waitKey(0)\n",
    "cv2.destroyAllWindows()\n"
   ]
  },
  {
   "cell_type": "code",
   "execution_count": null,
   "id": "13b2e815-e735-4213-bd79-03fe184180ba",
   "metadata": {},
   "outputs": [],
   "source": []
  }
 ],
 "metadata": {
  "kernelspec": {
   "display_name": "Python 3 (ipykernel)",
   "language": "python",
   "name": "python3"
  },
  "language_info": {
   "codemirror_mode": {
    "name": "ipython",
    "version": 3
   },
   "file_extension": ".py",
   "mimetype": "text/x-python",
   "name": "python",
   "nbconvert_exporter": "python",
   "pygments_lexer": "ipython3",
   "version": "3.10.11"
  }
 },
 "nbformat": 4,
 "nbformat_minor": 5
}
